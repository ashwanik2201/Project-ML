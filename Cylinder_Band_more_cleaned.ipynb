{
  "nbformat": 4,
  "nbformat_minor": 0,
  "metadata": {
    "colab": {
      "name": "project.ipynb",
      "version": "0.3.2",
      "provenance": [],
      "include_colab_link": true
    },
    "kernelspec": {
      "name": "python3",
      "display_name": "Python 3"
    }
  },
  "cells": [
    {
      "cell_type": "markdown",
      "metadata": {
        "id": "view-in-github",
        "colab_type": "text"
      },
      "source": [
        "<a href=\"https://colab.research.google.com/github/ashwanik2201/Project-ML/blob/master/Cylinder_Band_more_cleaned.ipynb\" target=\"_parent\"><img src=\"https://colab.research.google.com/assets/colab-badge.svg\" alt=\"Open In Colab\"/></a>"
      ]
    },
    {
      "metadata": {
        "id": "k8Ya7XRQbhhS",
        "colab_type": "code",
        "outputId": "a9639625-1743-4c60-bdf7-c40d6596b525",
        "colab": {
          "base_uri": "https://localhost:8080/",
          "height": 219
        }
      },
      "cell_type": "code",
      "source": [
        "!wget https://archive.ics.uci.edu/ml/machine-learning-databases/cylinder-bands/bands.data"
      ],
      "execution_count": 15,
      "outputs": [
        {
          "output_type": "stream",
          "text": [
            "--2019-04-08 13:24:24--  https://archive.ics.uci.edu/ml/machine-learning-databases/cylinder-bands/bands.data\n",
            "Resolving archive.ics.uci.edu (archive.ics.uci.edu)... 128.195.10.252\n",
            "Connecting to archive.ics.uci.edu (archive.ics.uci.edu)|128.195.10.252|:443... connected.\n",
            "HTTP request sent, awaiting response... 200 OK\n",
            "Length: 103300 (101K) [application/x-httpd-php]\n",
            "Saving to: ‘bands.data’\n",
            "\n",
            "\rbands.data            0%[                    ]       0  --.-KB/s               \rbands.data          100%[===================>] 100.88K   510KB/s    in 0.2s    \n",
            "\n",
            "2019-04-08 13:24:25 (510 KB/s) - ‘bands.data’ saved [103300/103300]\n",
            "\n"
          ],
          "name": "stdout"
        }
      ]
    },
    {
      "metadata": {
        "id": "R3-DK-nqbkBO",
        "colab_type": "code",
        "colab": {}
      },
      "cell_type": "code",
      "source": [
        "import numpy as np\n",
        "import pandas as pd"
      ],
      "execution_count": 0,
      "outputs": []
    },
    {
      "metadata": {
        "id": "30opzWkncLLs",
        "colab_type": "code",
        "colab": {}
      },
      "cell_type": "code",
      "source": [
        "attrib =['timestamp','cylinder number','customer','job number','grain screened','ink color','proof on ctd ink','blade mfg','cylinder division','paper type'\n",
        "         ,'ink type','direct steam','solvent type','type on cylinder','press type','press','unit number','cylinder size','paper mill location','plating tank'\n",
        "         ,'proof cut','viscosity','caliper','ink temperature','humifity','roughness','blade pressure','varnish pct','press speed','ink pct','solvent pct'\n",
        "         ,'ESA Voltage','ESA Amperage','wax','hardener','roller durometer','current density','anode space ratio','chrome content','band type']"
      ],
      "execution_count": 0,
      "outputs": []
    },
    {
      "metadata": {
        "id": "3OOeuoqfb1Da",
        "colab_type": "code",
        "colab": {}
      },
      "cell_type": "code",
      "source": [
        "d1 = pd.read_csv('bands.data',sep=',',names = attrib)"
      ],
      "execution_count": 0,
      "outputs": []
    },
    {
      "metadata": {
        "id": "Gw1E3LKtcAKP",
        "colab_type": "code",
        "outputId": "46717d57-0b86-4a5e-c5cc-81caa718b35c",
        "colab": {
          "base_uri": "https://localhost:8080/",
          "height": 308
        }
      },
      "cell_type": "code",
      "source": [
        "d1.head()"
      ],
      "execution_count": 19,
      "outputs": [
        {
          "output_type": "execute_result",
          "data": {
            "text/html": [
              "<div>\n",
              "<style scoped>\n",
              "    .dataframe tbody tr th:only-of-type {\n",
              "        vertical-align: middle;\n",
              "    }\n",
              "\n",
              "    .dataframe tbody tr th {\n",
              "        vertical-align: top;\n",
              "    }\n",
              "\n",
              "    .dataframe thead th {\n",
              "        text-align: right;\n",
              "    }\n",
              "</style>\n",
              "<table border=\"1\" class=\"dataframe\">\n",
              "  <thead>\n",
              "    <tr style=\"text-align: right;\">\n",
              "      <th></th>\n",
              "      <th>timestamp</th>\n",
              "      <th>cylinder number</th>\n",
              "      <th>customer</th>\n",
              "      <th>job number</th>\n",
              "      <th>grain screened</th>\n",
              "      <th>ink color</th>\n",
              "      <th>proof on ctd ink</th>\n",
              "      <th>blade mfg</th>\n",
              "      <th>cylinder division</th>\n",
              "      <th>paper type</th>\n",
              "      <th>...</th>\n",
              "      <th>solvent pct</th>\n",
              "      <th>ESA Voltage</th>\n",
              "      <th>ESA Amperage</th>\n",
              "      <th>wax</th>\n",
              "      <th>hardener</th>\n",
              "      <th>roller durometer</th>\n",
              "      <th>current density</th>\n",
              "      <th>anode space ratio</th>\n",
              "      <th>chrome content</th>\n",
              "      <th>band type</th>\n",
              "    </tr>\n",
              "  </thead>\n",
              "  <tbody>\n",
              "    <tr>\n",
              "      <th>0</th>\n",
              "      <td>19910108</td>\n",
              "      <td>X126</td>\n",
              "      <td>TVGUIDE</td>\n",
              "      <td>25503</td>\n",
              "      <td>YES</td>\n",
              "      <td>KEY</td>\n",
              "      <td>YES</td>\n",
              "      <td>BENTON</td>\n",
              "      <td>GALLATIN</td>\n",
              "      <td>UNCOATED</td>\n",
              "      <td>...</td>\n",
              "      <td>36.4</td>\n",
              "      <td>0</td>\n",
              "      <td>0</td>\n",
              "      <td>2.5</td>\n",
              "      <td>1</td>\n",
              "      <td>34</td>\n",
              "      <td>40</td>\n",
              "      <td>105</td>\n",
              "      <td>100</td>\n",
              "      <td>band</td>\n",
              "    </tr>\n",
              "    <tr>\n",
              "      <th>1</th>\n",
              "      <td>19910109</td>\n",
              "      <td>X266</td>\n",
              "      <td>TVGUIDE</td>\n",
              "      <td>25503</td>\n",
              "      <td>YES</td>\n",
              "      <td>KEY</td>\n",
              "      <td>YES</td>\n",
              "      <td>BENTON</td>\n",
              "      <td>GALLATIN</td>\n",
              "      <td>UNCOATED</td>\n",
              "      <td>...</td>\n",
              "      <td>38.5</td>\n",
              "      <td>0</td>\n",
              "      <td>0</td>\n",
              "      <td>2.5</td>\n",
              "      <td>0.7</td>\n",
              "      <td>34</td>\n",
              "      <td>40</td>\n",
              "      <td>105</td>\n",
              "      <td>100</td>\n",
              "      <td>noband</td>\n",
              "    </tr>\n",
              "    <tr>\n",
              "      <th>2</th>\n",
              "      <td>19910104</td>\n",
              "      <td>B7</td>\n",
              "      <td>MODMAT</td>\n",
              "      <td>47201</td>\n",
              "      <td>YES</td>\n",
              "      <td>KEY</td>\n",
              "      <td>YES</td>\n",
              "      <td>BENTON</td>\n",
              "      <td>GALLATIN</td>\n",
              "      <td>UNCOATED</td>\n",
              "      <td>...</td>\n",
              "      <td>39.8</td>\n",
              "      <td>0</td>\n",
              "      <td>0</td>\n",
              "      <td>2.8</td>\n",
              "      <td>0.9</td>\n",
              "      <td>40</td>\n",
              "      <td>40</td>\n",
              "      <td>103.87</td>\n",
              "      <td>100</td>\n",
              "      <td>noband</td>\n",
              "    </tr>\n",
              "    <tr>\n",
              "      <th>3</th>\n",
              "      <td>19910104</td>\n",
              "      <td>T133</td>\n",
              "      <td>MASSEY</td>\n",
              "      <td>39039</td>\n",
              "      <td>YES</td>\n",
              "      <td>KEY</td>\n",
              "      <td>YES</td>\n",
              "      <td>BENTON</td>\n",
              "      <td>GALLATIN</td>\n",
              "      <td>UNCOATED</td>\n",
              "      <td>...</td>\n",
              "      <td>38.8</td>\n",
              "      <td>0</td>\n",
              "      <td>0</td>\n",
              "      <td>2.5</td>\n",
              "      <td>1.3</td>\n",
              "      <td>40</td>\n",
              "      <td>40</td>\n",
              "      <td>108.06</td>\n",
              "      <td>100</td>\n",
              "      <td>noband</td>\n",
              "    </tr>\n",
              "    <tr>\n",
              "      <th>4</th>\n",
              "      <td>19910111</td>\n",
              "      <td>J34</td>\n",
              "      <td>KMART</td>\n",
              "      <td>37351</td>\n",
              "      <td>NO</td>\n",
              "      <td>KEY</td>\n",
              "      <td>YES</td>\n",
              "      <td>BENTON</td>\n",
              "      <td>GALLATIN</td>\n",
              "      <td>UNCOATED</td>\n",
              "      <td>...</td>\n",
              "      <td>42.5</td>\n",
              "      <td>5</td>\n",
              "      <td>0</td>\n",
              "      <td>2.3</td>\n",
              "      <td>0.6</td>\n",
              "      <td>35</td>\n",
              "      <td>40</td>\n",
              "      <td>106.67</td>\n",
              "      <td>100</td>\n",
              "      <td>noband</td>\n",
              "    </tr>\n",
              "  </tbody>\n",
              "</table>\n",
              "<p>5 rows × 40 columns</p>\n",
              "</div>"
            ],
            "text/plain": [
              "  timestamp cylinder number customer job number grain screened ink color  \\\n",
              "0  19910108            X126  TVGUIDE      25503            YES       KEY   \n",
              "1  19910109            X266  TVGUIDE      25503            YES       KEY   \n",
              "2  19910104              B7   MODMAT      47201            YES       KEY   \n",
              "3  19910104            T133   MASSEY      39039            YES       KEY   \n",
              "4  19910111             J34    KMART      37351             NO       KEY   \n",
              "\n",
              "  proof on ctd ink blade mfg cylinder division paper type    ...     \\\n",
              "0              YES    BENTON          GALLATIN   UNCOATED    ...      \n",
              "1              YES    BENTON          GALLATIN   UNCOATED    ...      \n",
              "2              YES    BENTON          GALLATIN   UNCOATED    ...      \n",
              "3              YES    BENTON          GALLATIN   UNCOATED    ...      \n",
              "4              YES    BENTON          GALLATIN   UNCOATED    ...      \n",
              "\n",
              "  solvent pct ESA Voltage ESA Amperage  wax hardener roller durometer  \\\n",
              "0        36.4           0            0  2.5        1               34   \n",
              "1        38.5           0            0  2.5      0.7               34   \n",
              "2        39.8           0            0  2.8      0.9               40   \n",
              "3        38.8           0            0  2.5      1.3               40   \n",
              "4        42.5           5            0  2.3      0.6               35   \n",
              "\n",
              "   current density anode space ratio chrome content band type  \n",
              "0               40               105            100      band  \n",
              "1               40               105            100    noband  \n",
              "2               40            103.87            100    noband  \n",
              "3               40            108.06            100    noband  \n",
              "4               40            106.67            100    noband  \n",
              "\n",
              "[5 rows x 40 columns]"
            ]
          },
          "metadata": {
            "tags": []
          },
          "execution_count": 19
        }
      ]
    },
    {
      "metadata": {
        "id": "fIrixFhCcBn_",
        "colab_type": "code",
        "outputId": "91f85064-5f12-4508-c879-913162841abf",
        "colab": {
          "base_uri": "https://localhost:8080/",
          "height": 844
        }
      },
      "cell_type": "code",
      "source": [
        "d1.info()"
      ],
      "execution_count": 20,
      "outputs": [
        {
          "output_type": "stream",
          "text": [
            "<class 'pandas.core.frame.DataFrame'>\n",
            "RangeIndex: 541 entries, 0 to 540\n",
            "Data columns (total 40 columns):\n",
            "timestamp              541 non-null object\n",
            "cylinder number        541 non-null object\n",
            "customer               541 non-null object\n",
            "job number             541 non-null object\n",
            "grain screened         541 non-null object\n",
            "ink color              541 non-null object\n",
            "proof on ctd ink       541 non-null object\n",
            "blade mfg              541 non-null object\n",
            "cylinder division      541 non-null object\n",
            "paper type             541 non-null object\n",
            "ink type               541 non-null object\n",
            "direct steam           541 non-null object\n",
            "solvent type           541 non-null object\n",
            "type on cylinder       541 non-null object\n",
            "press type             541 non-null object\n",
            "press                  541 non-null object\n",
            "unit number            541 non-null float64\n",
            "cylinder size          540 non-null object\n",
            "paper mill location    540 non-null object\n",
            "plating tank           540 non-null object\n",
            "proof cut              540 non-null object\n",
            "viscosity              540 non-null object\n",
            "caliper                540 non-null object\n",
            "ink temperature        539 non-null object\n",
            "humifity               539 non-null object\n",
            "roughness              539 non-null object\n",
            "blade pressure         539 non-null object\n",
            "varnish pct            539 non-null object\n",
            "press speed            539 non-null object\n",
            "ink pct                539 non-null object\n",
            "solvent pct            539 non-null object\n",
            "ESA Voltage            539 non-null object\n",
            "ESA Amperage           539 non-null object\n",
            "wax                    539 non-null object\n",
            "hardener               539 non-null object\n",
            "roller durometer       539 non-null object\n",
            "current density        539 non-null object\n",
            "anode space ratio      539 non-null object\n",
            "chrome content         539 non-null object\n",
            "band type              539 non-null object\n",
            "dtypes: float64(1), object(39)\n",
            "memory usage: 169.1+ KB\n"
          ],
          "name": "stdout"
        }
      ]
    },
    {
      "metadata": {
        "id": "yjRPHmVJcXfU",
        "colab_type": "code",
        "outputId": "0f49c897-e0e0-43a1-cf0e-86a8e32b5a99",
        "colab": {
          "base_uri": "https://localhost:8080/",
          "height": 770
        }
      },
      "cell_type": "code",
      "source": [
        "d1.isna().any()"
      ],
      "execution_count": 21,
      "outputs": [
        {
          "output_type": "execute_result",
          "data": {
            "text/plain": [
              "timestamp              False\n",
              "cylinder number        False\n",
              "customer               False\n",
              "job number             False\n",
              "grain screened         False\n",
              "ink color              False\n",
              "proof on ctd ink       False\n",
              "blade mfg              False\n",
              "cylinder division      False\n",
              "paper type             False\n",
              "ink type               False\n",
              "direct steam           False\n",
              "solvent type           False\n",
              "type on cylinder       False\n",
              "press type             False\n",
              "press                  False\n",
              "unit number            False\n",
              "cylinder size           True\n",
              "paper mill location     True\n",
              "plating tank            True\n",
              "proof cut               True\n",
              "viscosity               True\n",
              "caliper                 True\n",
              "ink temperature         True\n",
              "humifity                True\n",
              "roughness               True\n",
              "blade pressure          True\n",
              "varnish pct             True\n",
              "press speed             True\n",
              "ink pct                 True\n",
              "solvent pct             True\n",
              "ESA Voltage             True\n",
              "ESA Amperage            True\n",
              "wax                     True\n",
              "hardener                True\n",
              "roller durometer        True\n",
              "current density         True\n",
              "anode space ratio       True\n",
              "chrome content          True\n",
              "band type               True\n",
              "dtype: bool"
            ]
          },
          "metadata": {
            "tags": []
          },
          "execution_count": 21
        }
      ]
    },
    {
      "metadata": {
        "id": "TS_y_8H1dIQ3",
        "colab_type": "code",
        "outputId": "af061915-b360-469f-de05-dd8c98463a86",
        "colab": {
          "base_uri": "https://localhost:8080/",
          "height": 770
        }
      },
      "cell_type": "code",
      "source": [
        "d1.isna().sum()"
      ],
      "execution_count": 22,
      "outputs": [
        {
          "output_type": "execute_result",
          "data": {
            "text/plain": [
              "timestamp              0\n",
              "cylinder number        0\n",
              "customer               0\n",
              "job number             0\n",
              "grain screened         0\n",
              "ink color              0\n",
              "proof on ctd ink       0\n",
              "blade mfg              0\n",
              "cylinder division      0\n",
              "paper type             0\n",
              "ink type               0\n",
              "direct steam           0\n",
              "solvent type           0\n",
              "type on cylinder       0\n",
              "press type             0\n",
              "press                  0\n",
              "unit number            0\n",
              "cylinder size          1\n",
              "paper mill location    1\n",
              "plating tank           1\n",
              "proof cut              1\n",
              "viscosity              1\n",
              "caliper                1\n",
              "ink temperature        2\n",
              "humifity               2\n",
              "roughness              2\n",
              "blade pressure         2\n",
              "varnish pct            2\n",
              "press speed            2\n",
              "ink pct                2\n",
              "solvent pct            2\n",
              "ESA Voltage            2\n",
              "ESA Amperage           2\n",
              "wax                    2\n",
              "hardener               2\n",
              "roller durometer       2\n",
              "current density        2\n",
              "anode space ratio      2\n",
              "chrome content         2\n",
              "band type              2\n",
              "dtype: int64"
            ]
          },
          "metadata": {
            "tags": []
          },
          "execution_count": 22
        }
      ]
    },
    {
      "metadata": {
        "id": "hDjbaCEYdUXj",
        "colab_type": "code",
        "colab": {}
      },
      "cell_type": "code",
      "source": [
        "d2 = d1\n",
        "d1.dropna(how = 'any',inplace = True)"
      ],
      "execution_count": 0,
      "outputs": []
    },
    {
      "metadata": {
        "id": "KQBcAw-Uddom",
        "colab_type": "code",
        "outputId": "4e53909e-694b-4ffe-b350-b062af0a9be6",
        "colab": {
          "base_uri": "https://localhost:8080/",
          "height": 844
        }
      },
      "cell_type": "code",
      "source": [
        "d1.info()"
      ],
      "execution_count": 24,
      "outputs": [
        {
          "output_type": "stream",
          "text": [
            "<class 'pandas.core.frame.DataFrame'>\n",
            "Int64Index: 539 entries, 0 to 540\n",
            "Data columns (total 40 columns):\n",
            "timestamp              539 non-null object\n",
            "cylinder number        539 non-null object\n",
            "customer               539 non-null object\n",
            "job number             539 non-null object\n",
            "grain screened         539 non-null object\n",
            "ink color              539 non-null object\n",
            "proof on ctd ink       539 non-null object\n",
            "blade mfg              539 non-null object\n",
            "cylinder division      539 non-null object\n",
            "paper type             539 non-null object\n",
            "ink type               539 non-null object\n",
            "direct steam           539 non-null object\n",
            "solvent type           539 non-null object\n",
            "type on cylinder       539 non-null object\n",
            "press type             539 non-null object\n",
            "press                  539 non-null object\n",
            "unit number            539 non-null float64\n",
            "cylinder size          539 non-null object\n",
            "paper mill location    539 non-null object\n",
            "plating tank           539 non-null object\n",
            "proof cut              539 non-null object\n",
            "viscosity              539 non-null object\n",
            "caliper                539 non-null object\n",
            "ink temperature        539 non-null object\n",
            "humifity               539 non-null object\n",
            "roughness              539 non-null object\n",
            "blade pressure         539 non-null object\n",
            "varnish pct            539 non-null object\n",
            "press speed            539 non-null object\n",
            "ink pct                539 non-null object\n",
            "solvent pct            539 non-null object\n",
            "ESA Voltage            539 non-null object\n",
            "ESA Amperage           539 non-null object\n",
            "wax                    539 non-null object\n",
            "hardener               539 non-null object\n",
            "roller durometer       539 non-null object\n",
            "current density        539 non-null object\n",
            "anode space ratio      539 non-null object\n",
            "chrome content         539 non-null object\n",
            "band type              539 non-null object\n",
            "dtypes: float64(1), object(39)\n",
            "memory usage: 172.6+ KB\n"
          ],
          "name": "stdout"
        }
      ]
    },
    {
      "metadata": {
        "id": "RYZ18Twhdkio",
        "colab_type": "code",
        "colab": {}
      },
      "cell_type": "code",
      "source": [
        "d1=d1.drop(['timestamp','cylinder number','customer','job number','ink color','blade mfg',\n",
        "            'cylinder division','solvent type','press type','cylinder size','paper mill location','plating tank'],axis = 1)"
      ],
      "execution_count": 0,
      "outputs": []
    },
    {
      "metadata": {
        "id": "YPM7-zyutA83",
        "colab_type": "text"
      },
      "cell_type": "markdown",
      "source": [
        "***Data left after deleting un usefull info is:***"
      ]
    },
    {
      "metadata": {
        "id": "PTNhM1nLs1Ny",
        "colab_type": "code",
        "outputId": "e1de7e02-7d54-488a-f804-f0988da2e00e",
        "colab": {
          "base_uri": "https://localhost:8080/",
          "height": 308
        }
      },
      "cell_type": "code",
      "source": [
        "d1.head()"
      ],
      "execution_count": 26,
      "outputs": [
        {
          "output_type": "execute_result",
          "data": {
            "text/html": [
              "<div>\n",
              "<style scoped>\n",
              "    .dataframe tbody tr th:only-of-type {\n",
              "        vertical-align: middle;\n",
              "    }\n",
              "\n",
              "    .dataframe tbody tr th {\n",
              "        vertical-align: top;\n",
              "    }\n",
              "\n",
              "    .dataframe thead th {\n",
              "        text-align: right;\n",
              "    }\n",
              "</style>\n",
              "<table border=\"1\" class=\"dataframe\">\n",
              "  <thead>\n",
              "    <tr style=\"text-align: right;\">\n",
              "      <th></th>\n",
              "      <th>grain screened</th>\n",
              "      <th>proof on ctd ink</th>\n",
              "      <th>paper type</th>\n",
              "      <th>ink type</th>\n",
              "      <th>direct steam</th>\n",
              "      <th>type on cylinder</th>\n",
              "      <th>press</th>\n",
              "      <th>unit number</th>\n",
              "      <th>proof cut</th>\n",
              "      <th>viscosity</th>\n",
              "      <th>...</th>\n",
              "      <th>solvent pct</th>\n",
              "      <th>ESA Voltage</th>\n",
              "      <th>ESA Amperage</th>\n",
              "      <th>wax</th>\n",
              "      <th>hardener</th>\n",
              "      <th>roller durometer</th>\n",
              "      <th>current density</th>\n",
              "      <th>anode space ratio</th>\n",
              "      <th>chrome content</th>\n",
              "      <th>band type</th>\n",
              "    </tr>\n",
              "  </thead>\n",
              "  <tbody>\n",
              "    <tr>\n",
              "      <th>0</th>\n",
              "      <td>YES</td>\n",
              "      <td>YES</td>\n",
              "      <td>UNCOATED</td>\n",
              "      <td>UNCOATED</td>\n",
              "      <td>NO</td>\n",
              "      <td>YES</td>\n",
              "      <td>821</td>\n",
              "      <td>2.0</td>\n",
              "      <td>55</td>\n",
              "      <td>46</td>\n",
              "      <td>...</td>\n",
              "      <td>36.4</td>\n",
              "      <td>0</td>\n",
              "      <td>0</td>\n",
              "      <td>2.5</td>\n",
              "      <td>1</td>\n",
              "      <td>34</td>\n",
              "      <td>40</td>\n",
              "      <td>105</td>\n",
              "      <td>100</td>\n",
              "      <td>band</td>\n",
              "    </tr>\n",
              "    <tr>\n",
              "      <th>1</th>\n",
              "      <td>YES</td>\n",
              "      <td>YES</td>\n",
              "      <td>UNCOATED</td>\n",
              "      <td>UNCOATED</td>\n",
              "      <td>NO</td>\n",
              "      <td>YES</td>\n",
              "      <td>821</td>\n",
              "      <td>2.0</td>\n",
              "      <td>55</td>\n",
              "      <td>46</td>\n",
              "      <td>...</td>\n",
              "      <td>38.5</td>\n",
              "      <td>0</td>\n",
              "      <td>0</td>\n",
              "      <td>2.5</td>\n",
              "      <td>0.7</td>\n",
              "      <td>34</td>\n",
              "      <td>40</td>\n",
              "      <td>105</td>\n",
              "      <td>100</td>\n",
              "      <td>noband</td>\n",
              "    </tr>\n",
              "    <tr>\n",
              "      <th>2</th>\n",
              "      <td>YES</td>\n",
              "      <td>YES</td>\n",
              "      <td>UNCOATED</td>\n",
              "      <td>COATED</td>\n",
              "      <td>NO</td>\n",
              "      <td>YES</td>\n",
              "      <td>815</td>\n",
              "      <td>9.0</td>\n",
              "      <td>62</td>\n",
              "      <td>40</td>\n",
              "      <td>...</td>\n",
              "      <td>39.8</td>\n",
              "      <td>0</td>\n",
              "      <td>0</td>\n",
              "      <td>2.8</td>\n",
              "      <td>0.9</td>\n",
              "      <td>40</td>\n",
              "      <td>40</td>\n",
              "      <td>103.87</td>\n",
              "      <td>100</td>\n",
              "      <td>noband</td>\n",
              "    </tr>\n",
              "    <tr>\n",
              "      <th>3</th>\n",
              "      <td>YES</td>\n",
              "      <td>YES</td>\n",
              "      <td>UNCOATED</td>\n",
              "      <td>UNCOATED</td>\n",
              "      <td>NO</td>\n",
              "      <td>YES</td>\n",
              "      <td>816</td>\n",
              "      <td>9.0</td>\n",
              "      <td>52</td>\n",
              "      <td>40</td>\n",
              "      <td>...</td>\n",
              "      <td>38.8</td>\n",
              "      <td>0</td>\n",
              "      <td>0</td>\n",
              "      <td>2.5</td>\n",
              "      <td>1.3</td>\n",
              "      <td>40</td>\n",
              "      <td>40</td>\n",
              "      <td>108.06</td>\n",
              "      <td>100</td>\n",
              "      <td>noband</td>\n",
              "    </tr>\n",
              "    <tr>\n",
              "      <th>4</th>\n",
              "      <td>NO</td>\n",
              "      <td>YES</td>\n",
              "      <td>UNCOATED</td>\n",
              "      <td>COATED</td>\n",
              "      <td>NO</td>\n",
              "      <td>YES</td>\n",
              "      <td>816</td>\n",
              "      <td>2.0</td>\n",
              "      <td>50</td>\n",
              "      <td>46</td>\n",
              "      <td>...</td>\n",
              "      <td>42.5</td>\n",
              "      <td>5</td>\n",
              "      <td>0</td>\n",
              "      <td>2.3</td>\n",
              "      <td>0.6</td>\n",
              "      <td>35</td>\n",
              "      <td>40</td>\n",
              "      <td>106.67</td>\n",
              "      <td>100</td>\n",
              "      <td>noband</td>\n",
              "    </tr>\n",
              "  </tbody>\n",
              "</table>\n",
              "<p>5 rows × 28 columns</p>\n",
              "</div>"
            ],
            "text/plain": [
              "  grain screened proof on ctd ink paper type  ink type direct steam  \\\n",
              "0            YES              YES   UNCOATED  UNCOATED           NO   \n",
              "1            YES              YES   UNCOATED  UNCOATED           NO   \n",
              "2            YES              YES   UNCOATED    COATED           NO   \n",
              "3            YES              YES   UNCOATED  UNCOATED           NO   \n",
              "4             NO              YES   UNCOATED    COATED           NO   \n",
              "\n",
              "  type on cylinder press  unit number proof cut viscosity    ...     \\\n",
              "0              YES   821          2.0        55        46    ...      \n",
              "1              YES   821          2.0        55        46    ...      \n",
              "2              YES   815          9.0        62        40    ...      \n",
              "3              YES   816          9.0        52        40    ...      \n",
              "4              YES   816          2.0        50        46    ...      \n",
              "\n",
              "  solvent pct ESA Voltage ESA Amperage  wax hardener roller durometer  \\\n",
              "0        36.4           0            0  2.5        1               34   \n",
              "1        38.5           0            0  2.5      0.7               34   \n",
              "2        39.8           0            0  2.8      0.9               40   \n",
              "3        38.8           0            0  2.5      1.3               40   \n",
              "4        42.5           5            0  2.3      0.6               35   \n",
              "\n",
              "  current density anode space ratio chrome content band type  \n",
              "0              40               105            100      band  \n",
              "1              40               105            100    noband  \n",
              "2              40            103.87            100    noband  \n",
              "3              40            108.06            100    noband  \n",
              "4              40            106.67            100    noband  \n",
              "\n",
              "[5 rows x 28 columns]"
            ]
          },
          "metadata": {
            "tags": []
          },
          "execution_count": 26
        }
      ]
    },
    {
      "metadata": {
        "id": "oxYeq1Ahs23t",
        "colab_type": "code",
        "colab": {}
      },
      "cell_type": "code",
      "source": [
        "y = d1['band type']"
      ],
      "execution_count": 0,
      "outputs": []
    },
    {
      "metadata": {
        "id": "8cSyW4Cnu-K1",
        "colab_type": "code",
        "colab": {}
      },
      "cell_type": "code",
      "source": [
        "y.replace('noband','1',inplace = True)\n",
        "y.replace('band','0',inplace = True)"
      ],
      "execution_count": 0,
      "outputs": []
    },
    {
      "metadata": {
        "id": "iChWHvbXwvRb",
        "colab_type": "code",
        "colab": {}
      },
      "cell_type": "code",
      "source": [
        "d1 = d1.drop(['band type'],axis = 1)"
      ],
      "execution_count": 0,
      "outputs": []
    },
    {
      "metadata": {
        "id": "iD4WNkigw_0n",
        "colab_type": "code",
        "outputId": "ca575247-0f28-4138-d7bf-86a14e5c03c1",
        "colab": {
          "base_uri": "https://localhost:8080/",
          "height": 35
        }
      },
      "cell_type": "code",
      "source": [
        "print(set(d1['chrome content']))"
      ],
      "execution_count": 30,
      "outputs": [
        {
          "output_type": "stream",
          "text": [
            "{'?', '95', '100', '90'}\n"
          ],
          "name": "stdout"
        }
      ]
    },
    {
      "metadata": {
        "id": "3gDK1A9rxOww",
        "colab_type": "code",
        "outputId": "dc4ab681-a571-4037-a56e-3ff1ee49e818",
        "colab": {
          "base_uri": "https://localhost:8080/",
          "height": 146
        }
      },
      "cell_type": "code",
      "source": [
        "#print(d1['chrome content'].describe())\n",
        "#print(set(d1['chrome content']))\n",
        "#d1['chrome content'].fillna(str(d1['chrome content'].mode()),inplace = True)\n",
        "#print(set(d1['chrome content']))"
      ],
      "execution_count": 38,
      "outputs": [
        {
          "output_type": "stream",
          "text": [
            "count     539\n",
            "unique      4\n",
            "top       100\n",
            "freq      510\n",
            "Name: chrome content, dtype: object\n",
            "{'95', 'NA', '100', '90'}\n",
            "{'95', 'NA', '100', '90'}\n"
          ],
          "name": "stdout"
        }
      ]
    },
    {
      "metadata": {
        "id": "pQ89_Mb2tNRT",
        "colab_type": "code",
        "colab": {
          "base_uri": "https://localhost:8080/",
          "height": 35
        },
        "outputId": "86946d7b-60a7-48a1-97ee-4d57ef8be69f"
      },
      "cell_type": "code",
      "source": [
        "d = d1['chrome content'].describe()\n",
        "d1['chrome content'].replace('NA',d['top'],inplace = True)\n",
        "print(set(d1['chrome content']))"
      ],
      "execution_count": 42,
      "outputs": [
        {
          "output_type": "stream",
          "text": [
            "{'95', '100', '90'}\n"
          ],
          "name": "stdout"
        }
      ]
    },
    {
      "metadata": {
        "id": "AyK_DmxbJ8rj",
        "colab_type": "code",
        "colab": {}
      },
      "cell_type": "code",
      "source": [
        "col = d1.columns"
      ],
      "execution_count": 0,
      "outputs": []
    },
    {
      "metadata": {
        "id": "bQdWio0dLfeF",
        "colab_type": "code",
        "colab": {
          "base_uri": "https://localhost:8080/",
          "height": 35
        },
        "outputId": "ae962569-9f50-4d54-e58c-c92423019958"
      },
      "cell_type": "code",
      "source": [
        "print(set(d1['grain screened']))"
      ],
      "execution_count": 51,
      "outputs": [
        {
          "output_type": "stream",
          "text": [
            "{'NO', 'YES'}\n"
          ],
          "name": "stdout"
        }
      ]
    },
    {
      "metadata": {
        "id": "qZeiUfZfKdZ4",
        "colab_type": "code",
        "colab": {
          "base_uri": "https://localhost:8080/",
          "height": 1991
        },
        "outputId": "60fc60e6-43a3-408e-b61c-c39b021ae26f"
      },
      "cell_type": "code",
      "source": [
        "d2 = d1\n",
        "for i in col:\n",
        "  print(i)\n",
        "  m = d2[i].describe()\n",
        "  print(m)\n",
        "  d2[i].replace('?',str(m['top']),inplace = True)\n"
      ],
      "execution_count": 46,
      "outputs": [
        {
          "output_type": "stream",
          "text": [
            "grain screened\n",
            "count     539\n",
            "unique      2\n",
            "top        NO\n",
            "freq      329\n",
            "Name: grain screened, dtype: object\n",
            "proof on ctd ink\n",
            "count     539\n",
            "unique      2\n",
            "top       YES\n",
            "freq      517\n",
            "Name: proof on ctd ink, dtype: object\n",
            "paper type\n",
            "count          539\n",
            "unique           5\n",
            "top       UNCOATED\n",
            "freq           289\n",
            "Name: paper type, dtype: object\n",
            "ink type\n",
            "count        539\n",
            "unique         6\n",
            "top       COATED\n",
            "freq         278\n",
            "Name: ink type, dtype: object\n",
            "direct steam\n",
            "count     539\n",
            "unique      3\n",
            "top        NO\n",
            "freq      524\n",
            "Name: direct steam, dtype: object\n",
            "type on cylinder\n",
            "count     539\n",
            "unique      4\n",
            "top       YES\n",
            "freq      375\n",
            "Name: type on cylinder, dtype: object\n",
            "press\n",
            "count     539\n",
            "unique      8\n",
            "top       816\n",
            "freq      103\n",
            "Name: press, dtype: object\n",
            "unit number\n",
            "count    539.000000\n",
            "mean       4.883117\n",
            "std        3.251433\n",
            "min        1.000000\n",
            "25%        2.000000\n",
            "50%        2.000000\n",
            "75%        9.000000\n",
            "max       10.000000\n",
            "Name: unit number, dtype: float64\n"
          ],
          "name": "stdout"
        },
        {
          "output_type": "error",
          "ename": "KeyError",
          "evalue": "ignored",
          "traceback": [
            "\u001b[0;31m---------------------------------------------------------------------------\u001b[0m",
            "\u001b[0;31mTypeError\u001b[0m                                 Traceback (most recent call last)",
            "\u001b[0;32m/usr/local/lib/python3.6/dist-packages/pandas/core/indexes/base.py\u001b[0m in \u001b[0;36mget_value\u001b[0;34m(self, series, key)\u001b[0m\n\u001b[1;32m   2565\u001b[0m             \u001b[0;32mtry\u001b[0m\u001b[0;34m:\u001b[0m\u001b[0;34m\u001b[0m\u001b[0;34m\u001b[0m\u001b[0m\n\u001b[0;32m-> 2566\u001b[0;31m                 \u001b[0;32mreturn\u001b[0m \u001b[0mlibts\u001b[0m\u001b[0;34m.\u001b[0m\u001b[0mget_value_box\u001b[0m\u001b[0;34m(\u001b[0m\u001b[0ms\u001b[0m\u001b[0;34m,\u001b[0m \u001b[0mkey\u001b[0m\u001b[0;34m)\u001b[0m\u001b[0;34m\u001b[0m\u001b[0;34m\u001b[0m\u001b[0m\n\u001b[0m\u001b[1;32m   2567\u001b[0m             \u001b[0;32mexcept\u001b[0m \u001b[0mIndexError\u001b[0m\u001b[0;34m:\u001b[0m\u001b[0;34m\u001b[0m\u001b[0;34m\u001b[0m\u001b[0m\n",
            "\u001b[0;32mpandas/_libs/tslib.pyx\u001b[0m in \u001b[0;36mpandas._libs.tslib.get_value_box\u001b[0;34m()\u001b[0m\n",
            "\u001b[0;32mpandas/_libs/tslib.pyx\u001b[0m in \u001b[0;36mpandas._libs.tslib.get_value_box\u001b[0;34m()\u001b[0m\n",
            "\u001b[0;31mTypeError\u001b[0m: 'str' object cannot be interpreted as an integer",
            "\nDuring handling of the above exception, another exception occurred:\n",
            "\u001b[0;31mKeyError\u001b[0m                                  Traceback (most recent call last)",
            "\u001b[0;32m<ipython-input-46-31b6d7b66650>\u001b[0m in \u001b[0;36m<module>\u001b[0;34m()\u001b[0m\n\u001b[1;32m      4\u001b[0m   \u001b[0mm\u001b[0m \u001b[0;34m=\u001b[0m \u001b[0md2\u001b[0m\u001b[0;34m[\u001b[0m\u001b[0mi\u001b[0m\u001b[0;34m]\u001b[0m\u001b[0;34m.\u001b[0m\u001b[0mdescribe\u001b[0m\u001b[0;34m(\u001b[0m\u001b[0;34m)\u001b[0m\u001b[0;34m\u001b[0m\u001b[0;34m\u001b[0m\u001b[0m\n\u001b[1;32m      5\u001b[0m   \u001b[0mprint\u001b[0m\u001b[0;34m(\u001b[0m\u001b[0mm\u001b[0m\u001b[0;34m)\u001b[0m\u001b[0;34m\u001b[0m\u001b[0;34m\u001b[0m\u001b[0m\n\u001b[0;32m----> 6\u001b[0;31m   \u001b[0md2\u001b[0m\u001b[0;34m[\u001b[0m\u001b[0mi\u001b[0m\u001b[0;34m]\u001b[0m\u001b[0;34m.\u001b[0m\u001b[0mreplace\u001b[0m\u001b[0;34m(\u001b[0m\u001b[0;34m'?'\u001b[0m\u001b[0;34m,\u001b[0m\u001b[0mstr\u001b[0m\u001b[0;34m(\u001b[0m\u001b[0mm\u001b[0m\u001b[0;34m[\u001b[0m\u001b[0;34m'top'\u001b[0m\u001b[0;34m]\u001b[0m\u001b[0;34m)\u001b[0m\u001b[0;34m,\u001b[0m\u001b[0minplace\u001b[0m \u001b[0;34m=\u001b[0m \u001b[0;32mTrue\u001b[0m\u001b[0;34m)\u001b[0m\u001b[0;34m\u001b[0m\u001b[0;34m\u001b[0m\u001b[0m\n\u001b[0m",
            "\u001b[0;32m/usr/local/lib/python3.6/dist-packages/pandas/core/series.py\u001b[0m in \u001b[0;36m__getitem__\u001b[0;34m(self, key)\u001b[0m\n\u001b[1;32m    621\u001b[0m         \u001b[0mkey\u001b[0m \u001b[0;34m=\u001b[0m \u001b[0mcom\u001b[0m\u001b[0;34m.\u001b[0m\u001b[0m_apply_if_callable\u001b[0m\u001b[0;34m(\u001b[0m\u001b[0mkey\u001b[0m\u001b[0;34m,\u001b[0m \u001b[0mself\u001b[0m\u001b[0;34m)\u001b[0m\u001b[0;34m\u001b[0m\u001b[0;34m\u001b[0m\u001b[0m\n\u001b[1;32m    622\u001b[0m         \u001b[0;32mtry\u001b[0m\u001b[0;34m:\u001b[0m\u001b[0;34m\u001b[0m\u001b[0;34m\u001b[0m\u001b[0m\n\u001b[0;32m--> 623\u001b[0;31m             \u001b[0mresult\u001b[0m \u001b[0;34m=\u001b[0m \u001b[0mself\u001b[0m\u001b[0;34m.\u001b[0m\u001b[0mindex\u001b[0m\u001b[0;34m.\u001b[0m\u001b[0mget_value\u001b[0m\u001b[0;34m(\u001b[0m\u001b[0mself\u001b[0m\u001b[0;34m,\u001b[0m \u001b[0mkey\u001b[0m\u001b[0;34m)\u001b[0m\u001b[0;34m\u001b[0m\u001b[0;34m\u001b[0m\u001b[0m\n\u001b[0m\u001b[1;32m    624\u001b[0m \u001b[0;34m\u001b[0m\u001b[0m\n\u001b[1;32m    625\u001b[0m             \u001b[0;32mif\u001b[0m \u001b[0;32mnot\u001b[0m \u001b[0mis_scalar\u001b[0m\u001b[0;34m(\u001b[0m\u001b[0mresult\u001b[0m\u001b[0;34m)\u001b[0m\u001b[0;34m:\u001b[0m\u001b[0;34m\u001b[0m\u001b[0;34m\u001b[0m\u001b[0m\n",
            "\u001b[0;32m/usr/local/lib/python3.6/dist-packages/pandas/core/indexes/base.py\u001b[0m in \u001b[0;36mget_value\u001b[0;34m(self, series, key)\u001b[0m\n\u001b[1;32m   2572\u001b[0m                     \u001b[0;32mraise\u001b[0m \u001b[0mInvalidIndexError\u001b[0m\u001b[0;34m(\u001b[0m\u001b[0mkey\u001b[0m\u001b[0;34m)\u001b[0m\u001b[0;34m\u001b[0m\u001b[0;34m\u001b[0m\u001b[0m\n\u001b[1;32m   2573\u001b[0m                 \u001b[0;32melse\u001b[0m\u001b[0;34m:\u001b[0m\u001b[0;34m\u001b[0m\u001b[0;34m\u001b[0m\u001b[0m\n\u001b[0;32m-> 2574\u001b[0;31m                     \u001b[0;32mraise\u001b[0m \u001b[0me1\u001b[0m\u001b[0;34m\u001b[0m\u001b[0;34m\u001b[0m\u001b[0m\n\u001b[0m\u001b[1;32m   2575\u001b[0m             \u001b[0;32mexcept\u001b[0m \u001b[0mException\u001b[0m\u001b[0;34m:\u001b[0m  \u001b[0;31m# pragma: no cover\u001b[0m\u001b[0;34m\u001b[0m\u001b[0;34m\u001b[0m\u001b[0m\n\u001b[1;32m   2576\u001b[0m                 \u001b[0;32mraise\u001b[0m \u001b[0me1\u001b[0m\u001b[0;34m\u001b[0m\u001b[0;34m\u001b[0m\u001b[0m\n",
            "\u001b[0;32m/usr/local/lib/python3.6/dist-packages/pandas/core/indexes/base.py\u001b[0m in \u001b[0;36mget_value\u001b[0;34m(self, series, key)\u001b[0m\n\u001b[1;32m   2558\u001b[0m         \u001b[0;32mtry\u001b[0m\u001b[0;34m:\u001b[0m\u001b[0;34m\u001b[0m\u001b[0;34m\u001b[0m\u001b[0m\n\u001b[1;32m   2559\u001b[0m             return self._engine.get_value(s, k,\n\u001b[0;32m-> 2560\u001b[0;31m                                           tz=getattr(series.dtype, 'tz', None))\n\u001b[0m\u001b[1;32m   2561\u001b[0m         \u001b[0;32mexcept\u001b[0m \u001b[0mKeyError\u001b[0m \u001b[0;32mas\u001b[0m \u001b[0me1\u001b[0m\u001b[0;34m:\u001b[0m\u001b[0;34m\u001b[0m\u001b[0;34m\u001b[0m\u001b[0m\n\u001b[1;32m   2562\u001b[0m             \u001b[0;32mif\u001b[0m \u001b[0mlen\u001b[0m\u001b[0;34m(\u001b[0m\u001b[0mself\u001b[0m\u001b[0;34m)\u001b[0m \u001b[0;34m>\u001b[0m \u001b[0;36m0\u001b[0m \u001b[0;32mand\u001b[0m \u001b[0mself\u001b[0m\u001b[0;34m.\u001b[0m\u001b[0minferred_type\u001b[0m \u001b[0;32min\u001b[0m \u001b[0;34m[\u001b[0m\u001b[0;34m'integer'\u001b[0m\u001b[0;34m,\u001b[0m \u001b[0;34m'boolean'\u001b[0m\u001b[0;34m]\u001b[0m\u001b[0;34m:\u001b[0m\u001b[0;34m\u001b[0m\u001b[0;34m\u001b[0m\u001b[0m\n",
            "\u001b[0;32mpandas/_libs/index.pyx\u001b[0m in \u001b[0;36mpandas._libs.index.IndexEngine.get_value\u001b[0;34m()\u001b[0m\n",
            "\u001b[0;32mpandas/_libs/index.pyx\u001b[0m in \u001b[0;36mpandas._libs.index.IndexEngine.get_value\u001b[0;34m()\u001b[0m\n",
            "\u001b[0;32mpandas/_libs/index.pyx\u001b[0m in \u001b[0;36mpandas._libs.index.IndexEngine.get_loc\u001b[0;34m()\u001b[0m\n",
            "\u001b[0;32mpandas/_libs/hashtable_class_helper.pxi\u001b[0m in \u001b[0;36mpandas._libs.hashtable.PyObjectHashTable.get_item\u001b[0;34m()\u001b[0m\n",
            "\u001b[0;32mpandas/_libs/hashtable_class_helper.pxi\u001b[0m in \u001b[0;36mpandas._libs.hashtable.PyObjectHashTable.get_item\u001b[0;34m()\u001b[0m\n",
            "\u001b[0;31mKeyError\u001b[0m: 'top'"
          ]
        }
      ]
    },
    {
      "metadata": {
        "id": "gIYjlsVAK3aJ",
        "colab_type": "code",
        "colab": {
          "base_uri": "https://localhost:8080/",
          "height": 164
        },
        "outputId": "9f66502f-6717-4ad5-83a9-5e84fc865aca"
      },
      "cell_type": "code",
      "source": [
        "print(col)"
      ],
      "execution_count": 47,
      "outputs": [
        {
          "output_type": "stream",
          "text": [
            "Index(['grain screened', 'proof on ctd ink', 'paper type', 'ink type',\n",
            "       'direct steam', 'type on cylinder', 'press', 'unit number', 'proof cut',\n",
            "       'viscosity', 'caliper', 'ink temperature', 'humifity', 'roughness',\n",
            "       'blade pressure', 'varnish pct', 'press speed', 'ink pct',\n",
            "       'solvent pct', 'ESA Voltage', 'ESA Amperage', 'wax', 'hardener',\n",
            "       'roller durometer', 'current density', 'anode space ratio',\n",
            "       'chrome content'],\n",
            "      dtype='object')\n"
          ],
          "name": "stdout"
        }
      ]
    },
    {
      "metadata": {
        "id": "_VgCYPT8LTKc",
        "colab_type": "code",
        "colab": {
          "base_uri": "https://localhost:8080/",
          "height": 166
        },
        "outputId": "1bc69b46-137a-4057-a97f-841ab4ec9106"
      },
      "cell_type": "code",
      "source": [
        "m = d2['viscosity'].describe()\n",
        "print(m)\n",
        "print(set(d2['viscosity']))\n",
        "d2['viscosity'].replace('?',m['top'],inplace = True)\n",
        "print(set(d1['viscosity']))"
      ],
      "execution_count": 57,
      "outputs": [
        {
          "output_type": "stream",
          "text": [
            "count     539\n",
            "unique     37\n",
            "top        54\n",
            "freq       56\n",
            "Name: viscosity, dtype: object\n",
            "{'41', '65', '53', '50', '69', '72', '52', '46', '67', '58', '44', '35', '62', '68', '70', '56', '43', '45', '63', '59', '55', '47', '39', '64', '42', '54', '57', '61', '48', '49', '40', '60', '51', '37', '36', '38', '66'}\n",
            "{'41', '65', '53', '50', '69', '72', '52', '46', '67', '58', '44', '35', '62', '68', '70', '56', '43', '45', '63', '59', '55', '47', '39', '64', '42', '54', '57', '61', '48', '49', '40', '60', '51', '37', '36', '38', '66'}\n"
          ],
          "name": "stdout"
        }
      ]
    },
    {
      "metadata": {
        "id": "-utuo_0gLaux",
        "colab_type": "code",
        "colab": {}
      },
      "cell_type": "code",
      "source": [
        "for i in range(11,len(col)):\n",
        "  m = d2[col[i]].describe()\n",
        "  d2[col[i]].replace('?',str(m['top']),inplace = True)\n"
      ],
      "execution_count": 0,
      "outputs": []
    },
    {
      "metadata": {
        "id": "Qe7DhV8uNJ69",
        "colab_type": "code",
        "colab": {
          "base_uri": "https://localhost:8080/",
          "height": 74
        },
        "outputId": "2fc3c5ca-12e4-4528-b3d4-413b803cbad0"
      },
      "cell_type": "code",
      "source": [
        "print(set(d2['proof cut']))\n",
        "m = d2['proof cut'].describe()\n",
        "d2['proof cut'].replace('?',m['top'],inplace = True)\n",
        "print(set(d2['proof cut']))"
      ],
      "execution_count": 68,
      "outputs": [
        {
          "output_type": "stream",
          "text": [
            "{'55.5', '57.5', '65', '50', '52', '35', '62', '70', '72.5', '62.5', '37.5', '45', '67.5', '30', '25', '32.5', '55', '47', '52.5', '42', '32', '49', '40', '47.5', '60', '27.5', '42.5'}\n",
            "{'55.5', '57.5', '65', '50', '52', '35', '62', '70', '72.5', '62.5', '37.5', '45', '67.5', '30', '25', '32.5', '55', '47', '52.5', '42', '32', '49', '40', '47.5', '60', '27.5', '42.5'}\n"
          ],
          "name": "stdout"
        }
      ]
    },
    {
      "metadata": {
        "id": "ZbqL6yZ0NwQr",
        "colab_type": "code",
        "colab": {
          "base_uri": "https://localhost:8080/",
          "height": 533
        },
        "outputId": "7506a1f5-7966-49d8-bc94-a7b69692934b"
      },
      "cell_type": "code",
      "source": [
        "for i in col:\n",
        "  print(i,set(d2[i]))"
      ],
      "execution_count": 71,
      "outputs": [
        {
          "output_type": "stream",
          "text": [
            "grain screened {'NO', 'YES'}\n",
            "proof on ctd ink {'NO', 'YES'}\n",
            "paper type {'super', 'UNCOATED', 'uncoated', 'COATED', 'coated'}\n",
            "ink type {'UNCOATED', 'uncoated', 'COATED', 'cover', 'coated', 'COVER'}\n",
            "direct steam {'no', 'NO', 'YES'}\n",
            "type on cylinder {'no', 'NO', 'yes', 'YES'}\n",
            "press {'816', '813', '827', '802', '828', '815', '821', '824'}\n",
            "unit number {1.0, 2.0, 5.0, 6.0, 7.0, 9.0, 10.0}\n",
            "proof cut {'55.5', '57.5', '65', '50', '52', '35', '62', '70', '72.5', '62.5', '37.5', '45', '67.5', '30', '25', '32.5', '55', '47', '52.5', '42', '32', '49', '40', '47.5', '60', '27.5', '42.5'}\n",
            "viscosity {'41', '65', '53', '50', '69', '72', '52', '46', '67', '58', '44', '35', '62', '68', '70', '56', '43', '45', '63', '59', '55', '47', '39', '64', '42', '54', '57', '61', '48', '49', '40', '60', '51', '37', '36', '38', '66'}\n",
            "caliper {'0.267', '0.433', '0.2', '0.367', '0.333', '0.283', '0.133', '0.25', '0.5', '.200', '0.233', '0.467', '0.533', '0.217', '0.167', '0.35', '0.3', '0.4', '0.300', '0.200'}\n",
            "ink temperature {'14.02', '14.43', '15.03', '16.5', '17.5', '15', '15.1', '14.2', '16', '16.02', '16.08', '12.5', '15.0', '16.53', '24.5', '17.58', '13', '15.59', '12.7', '15.7', '15.4', '14.6', '15.9', '22.2', '16.3', '15.3', '13.86', '18.5', '14.3', '16.2', '16.8', '15.8', '13.23', '20', '11.2', '16.6', '18', '16.1', '13.7', '13.5', '13.8', '17.2', '14.1', '15.5', '13.9', '18.3', '14', '17', '14.42', '16.66', '13.4', '14.7', '13.3', '18.1', '21', '16.4', '12', '14.9', '15.6', '14.5', '15.2', '13.6', '13.1', '13.34', '14.8', '16.22'}\n",
            "humifity {'78', '92', '65', '103', '85', '69', '88', '72', '95', '67', '58', '81', '80', '74', '62', '68', '76', '70', '84', '100', '90', '63', '75', '86', '64', '82', '83', '98', '57', '96', '87', '105', '94', '60', '73', '79', '91', '93', '77', '89', '71', '66'}\n",
            "roughness {'0.812', '0.8125', '0.5625', '0.3125', '.625', '0.9375', '0.375', '0.1875', '0.875', '1.125', '0.05625', '0.625', '0.25', '0.5', '0.500', '1', '1.25', '0.75', '1.0', '0.750', '0.4375', '0.8175'}\n",
            "blade pressure {'41', '50', '16', '52', '23', '26', '46', '28', '58', '35', '70', '56', '20', '43', '22', '30', '45', '25', '18', '55', '47', '34', '42', '27', '32', '21', '48', '49', '40', '33', '60', '29', '31', '36', '24', '38'}\n",
            "varnish pct {'10.4', '17.5', '15', '5.6', '22.7', '2.2', '8.2', '13', '19.5', '6.6', '9.4', '4.5', '11.2', '5.9', '16.1', '10.9', '14.1', '15.5', '35.8', '4.3', '6.7', '12.4', '6.25', '6', '15.2', '7.9', '22.1', '8.3', '1.5', '8.9', '5.5', '9.5', '9.0', '7', '10', '1.2', '8', '6.5', '11.5', '2.4', '8.8', '18', '13.7', '25.6', '0', '11', '0.5', '17.3', '21.8', '18.1', '21', '3.2', '9.7', '17.1', '24.8', '12', '7.4', '10.6', '12.3', '19.1', '3.5', '20.6', '20.3', '3.1', '10.2', '9.1', '14.4', '8.6', '10.3', '7.0', '5.1', '16.7', '6.4', '10.8', '15.9', '19', '14.3', '15.8', '18.9', '9.6', '22.0', '18.0', '3.6', '13.4', '13.3', '5.3', '20.7', '2.3', '11.3', '11.8', '34.5', '1', '8.5', '7.6', '5.7', '16.5', '17.7', '7.7', '11.7', '10.5', '12.5', '7.5', '4.7', '14.6', '2.5', '20', '16.3', '18.5', '9.9', '9.8', '11.1', '20.2', '3.4', '1.1', '3.3', '5.4', '6.9', '15.6', '4.8', '7.2', '13.1', '21.7', '20.4', '4.4'}\n",
            "press speed {'1386', '1380', '1391', '1425', '2189', '1650', '2400', '1673', '1600', '1880', '2020', '2303', '1635', '2500', '1250', '1550', '1565', '2270', '900', '1300', '1725', '1734', '1320', '1480', '1200', '1420', '2225', '1100', '1490', '1840', '1683', '1530', '1900', '1750', '2100', '2244', '1950', '2550', '2350', '1000', '1800', '1520', '1467', '1975', '2426', '0', '1660', '1903', '2150', '2050', '2000', '1570', '2600', '1620', '1400', '1875', '1470', '1640', '1760', '2290', '2125', '1510', '1700', '1780', '1736', '2180', '2380', '1742', '1350', '1835', '1720', '1450', '1850', '2250', '2220', '2398', '2233', '1500', '2300', '1440', '2200', '1726'}\n",
            "ink pct {'56.1', '42.4', '55.5', '57.5', '47.2', '41', '61.7', '52.7', '50', '53', '48.1', '46.5', '44.6', '48.5', '60.2', '58', '68.2', '45.4', '42.7', '47.6', '53.4', '58.9', '62.2', '44.2', '56.25', '53.9', '46.3', '53.2', '59.5', '76.9', '41.3', '68', '57.4', '43.5', '62.5', '50.5', '52.2', '52.6', '54.3', '61.9', '57.7', '71.4', '45.9', '45', '58.8', '63', '59', '51.5', '65.2', '55', '48.7', '63.9', '42', '45.5', '52.8', '54', '53.8', '61', '59.8', '52.1', '58.5', '49', '45.8', '41.7', '58.3', '50.6', '66.7', '60', '51', '49.5', '64.1', '59.3', '56.7', '63.3', '55.6', '58.1', '46.7', '56.8', '56.2', '54.9', '61.1'}\n",
            "solvent pct {'35.3', '45.7', '46.8', '53.4', '41.3', '34.8', '37.3', '39.5', '43', '36.9', '34.7', '30', '34.3', '36.3', '35.0', '39', '42.6', '36.6', '40.5', '38.9', '35.8', '39.2', '42', '33.8', '41.2', '31.8', '37', '32.6', '31.3', '39.4', '38.5', '37.8', '42.5', '40.6', '39.3', '27.5', '35.4', '42.4', '41', '22.5', '34.44', '36.5', '34.1', '47.9', '41.8', '37.1', '45.2', '35.5', '33.4', '47.4', '44.5', '38.3', '40.7', '40.4', '36.8', '32', '41.7', '32.7', '39.6', '34.6', '33.3', '36', '42.1', '31.7', '32.8', '38', '43.8', '50', '43.2', '36.7', '44.6', '35.9', '37.6', '28.6', '36.4', '44.4', '23.1', '43.5', '39.7', '33.9', '35.1', '34', '36.1', '35.2', '41.5', '41.1', '46.1', '37.9', '39.8', '41.9', '38.4', '34.5', '38.1', '42.2', '35', '40.8', '38.8', '41.6', '36.2', '44.3', '37.2', '38.2', '39.1', '40.9', '22', '37.5', '45.9', '45', '38.7', '34.9', '31.4', '32.1', '40.2', '42.9', '35.7', '40'}\n",
            "ESA Voltage {'1.5', '6', '0', '12', '10', '0.5', '4', '2.5', '0.75', '16', '4.5', '2', '3', '5', '8', '9', '1'}\n",
            "ESA Amperage {'6', '0.5', '0', '4'}\n",
            "wax {'1.5', '2.7', '1.3', '3.1', '2.1', '2.8', '2.2', '3.0', '1.2', '1.8', '0.8', '2.5', '2.9', '3', '2.75', '2.4', '1.75', '0', '0.5', '1.4', '2.25', '1.1', '1.6', '1.7', '2.6', '2.0', '0.7', '1.9', '2.3', '2', '2.85', '1'}\n",
            "hardener {'1.5', '1.3', '2.1', '2.8', '2.2', '1.2', '0.8', '1.8', '2.5', '3', '0.3', '0.4', '0.6', '0.2', '0', '0.5', '1.4', '1.1', '0.75', '1.25', '1.0', '0.9', '0.65', '1.7', '.8', '2.0', '0.7', '1.35', '0.85', '2.3', '2', '1'}\n",
            "roller durometer {'35', '40', '33', '32', '50', '60', '45', '34', '28', '38', '38.5', '30'}\n",
            "current density {'35', '40', '33', '37', '45', '42', '30'}\n",
            "anode space ratio {'93.55', '93.75', '96.8', '106.6', '108.06', '106.2', '103', '108', '93.3', '103.12', '103.13', '93.5', '96.9', '96.88', '108.1', '117.7', '114.29', '105.7', '96.875', '105.2', '117.86', '109.67', '96.77', '106.25', '102.94', '110.3', '103.33', '110.71', '103.125', '106.67', '106.4', '106.9', '90.3', '114.3', '106.7', '106.89', '106.1', '103.2', '110', '100', '106.66', '90', '112.5', '91.89', '103.87', '83.33', '106.5', '109.7', '100.0', '102.857', '109.1', '106.45', '97.05', '106', '107.4', '102.941', '94.117', '96.97', '105.1', '109.6', '105', '110.7', '103.22', '117.85', '102.77', '101.67', '96.7', '103.3', '93.6', '103.225', '98.3', '103.1', '103.23', '114.28', '109.9', '113.3', '94.4', '111.1', '96.6', '107.14', '102'}\n",
            "chrome content {'95', '100', '90'}\n"
          ],
          "name": "stdout"
        }
      ]
    },
    {
      "metadata": {
        "id": "SXikB_kaO5Kv",
        "colab_type": "code",
        "colab": {
          "base_uri": "https://localhost:8080/",
          "height": 74
        },
        "outputId": "7b67c304-46c8-45e6-aaf5-ee0b6e80ace2"
      },
      "cell_type": "code",
      "source": [
        "print(set(d2['caliper']))\n",
        "m = d2['caliper'].describe()\n",
        "d2['caliper'].replace('?',m['top'],inplace = True)\n",
        "print(set(d2['caliper']))"
      ],
      "execution_count": 70,
      "outputs": [
        {
          "output_type": "stream",
          "text": [
            "{'?', '0.233', '0.167', '0.35', '0.333', '0.367', '0.283', '0.3', '0.4', '0.267', '0.2', '0.133', '0.25', '0.5', '0.200', '0.433', '.200', '0.467', '0.217', '0.533', '0.300'}\n",
            "{'0.267', '0.433', '0.2', '0.367', '0.333', '0.283', '0.133', '0.25', '0.5', '.200', '0.233', '0.467', '0.533', '0.217', '0.167', '0.35', '0.3', '0.4', '0.300', '0.200'}\n"
          ],
          "name": "stdout"
        }
      ]
    },
    {
      "metadata": {
        "id": "W-n2ez8DPYkA",
        "colab_type": "code",
        "colab": {
          "base_uri": "https://localhost:8080/",
          "height": 308
        },
        "outputId": "79556f48-c0d1-4dec-f63b-7f2c2c7d799b"
      },
      "cell_type": "code",
      "source": [
        "d2.head()"
      ],
      "execution_count": 73,
      "outputs": [
        {
          "output_type": "execute_result",
          "data": {
            "text/html": [
              "<div>\n",
              "<style scoped>\n",
              "    .dataframe tbody tr th:only-of-type {\n",
              "        vertical-align: middle;\n",
              "    }\n",
              "\n",
              "    .dataframe tbody tr th {\n",
              "        vertical-align: top;\n",
              "    }\n",
              "\n",
              "    .dataframe thead th {\n",
              "        text-align: right;\n",
              "    }\n",
              "</style>\n",
              "<table border=\"1\" class=\"dataframe\">\n",
              "  <thead>\n",
              "    <tr style=\"text-align: right;\">\n",
              "      <th></th>\n",
              "      <th>grain screened</th>\n",
              "      <th>proof on ctd ink</th>\n",
              "      <th>paper type</th>\n",
              "      <th>ink type</th>\n",
              "      <th>direct steam</th>\n",
              "      <th>type on cylinder</th>\n",
              "      <th>press</th>\n",
              "      <th>unit number</th>\n",
              "      <th>proof cut</th>\n",
              "      <th>viscosity</th>\n",
              "      <th>...</th>\n",
              "      <th>ink pct</th>\n",
              "      <th>solvent pct</th>\n",
              "      <th>ESA Voltage</th>\n",
              "      <th>ESA Amperage</th>\n",
              "      <th>wax</th>\n",
              "      <th>hardener</th>\n",
              "      <th>roller durometer</th>\n",
              "      <th>current density</th>\n",
              "      <th>anode space ratio</th>\n",
              "      <th>chrome content</th>\n",
              "    </tr>\n",
              "  </thead>\n",
              "  <tbody>\n",
              "    <tr>\n",
              "      <th>0</th>\n",
              "      <td>YES</td>\n",
              "      <td>YES</td>\n",
              "      <td>UNCOATED</td>\n",
              "      <td>UNCOATED</td>\n",
              "      <td>NO</td>\n",
              "      <td>YES</td>\n",
              "      <td>821</td>\n",
              "      <td>2.0</td>\n",
              "      <td>55</td>\n",
              "      <td>46</td>\n",
              "      <td>...</td>\n",
              "      <td>50.5</td>\n",
              "      <td>36.4</td>\n",
              "      <td>0</td>\n",
              "      <td>0</td>\n",
              "      <td>2.5</td>\n",
              "      <td>1</td>\n",
              "      <td>34</td>\n",
              "      <td>40</td>\n",
              "      <td>105</td>\n",
              "      <td>100</td>\n",
              "    </tr>\n",
              "    <tr>\n",
              "      <th>1</th>\n",
              "      <td>YES</td>\n",
              "      <td>YES</td>\n",
              "      <td>UNCOATED</td>\n",
              "      <td>UNCOATED</td>\n",
              "      <td>NO</td>\n",
              "      <td>YES</td>\n",
              "      <td>821</td>\n",
              "      <td>2.0</td>\n",
              "      <td>55</td>\n",
              "      <td>46</td>\n",
              "      <td>...</td>\n",
              "      <td>54.9</td>\n",
              "      <td>38.5</td>\n",
              "      <td>0</td>\n",
              "      <td>0</td>\n",
              "      <td>2.5</td>\n",
              "      <td>0.7</td>\n",
              "      <td>34</td>\n",
              "      <td>40</td>\n",
              "      <td>105</td>\n",
              "      <td>100</td>\n",
              "    </tr>\n",
              "    <tr>\n",
              "      <th>2</th>\n",
              "      <td>YES</td>\n",
              "      <td>YES</td>\n",
              "      <td>UNCOATED</td>\n",
              "      <td>COATED</td>\n",
              "      <td>NO</td>\n",
              "      <td>YES</td>\n",
              "      <td>815</td>\n",
              "      <td>9.0</td>\n",
              "      <td>62</td>\n",
              "      <td>40</td>\n",
              "      <td>...</td>\n",
              "      <td>53.8</td>\n",
              "      <td>39.8</td>\n",
              "      <td>0</td>\n",
              "      <td>0</td>\n",
              "      <td>2.8</td>\n",
              "      <td>0.9</td>\n",
              "      <td>40</td>\n",
              "      <td>40</td>\n",
              "      <td>103.87</td>\n",
              "      <td>100</td>\n",
              "    </tr>\n",
              "    <tr>\n",
              "      <th>3</th>\n",
              "      <td>YES</td>\n",
              "      <td>YES</td>\n",
              "      <td>UNCOATED</td>\n",
              "      <td>UNCOATED</td>\n",
              "      <td>NO</td>\n",
              "      <td>YES</td>\n",
              "      <td>816</td>\n",
              "      <td>9.0</td>\n",
              "      <td>52</td>\n",
              "      <td>40</td>\n",
              "      <td>...</td>\n",
              "      <td>55.6</td>\n",
              "      <td>38.8</td>\n",
              "      <td>0</td>\n",
              "      <td>0</td>\n",
              "      <td>2.5</td>\n",
              "      <td>1.3</td>\n",
              "      <td>40</td>\n",
              "      <td>40</td>\n",
              "      <td>108.06</td>\n",
              "      <td>100</td>\n",
              "    </tr>\n",
              "    <tr>\n",
              "      <th>4</th>\n",
              "      <td>NO</td>\n",
              "      <td>YES</td>\n",
              "      <td>UNCOATED</td>\n",
              "      <td>COATED</td>\n",
              "      <td>NO</td>\n",
              "      <td>YES</td>\n",
              "      <td>816</td>\n",
              "      <td>2.0</td>\n",
              "      <td>50</td>\n",
              "      <td>46</td>\n",
              "      <td>...</td>\n",
              "      <td>57.5</td>\n",
              "      <td>42.5</td>\n",
              "      <td>5</td>\n",
              "      <td>0</td>\n",
              "      <td>2.3</td>\n",
              "      <td>0.6</td>\n",
              "      <td>35</td>\n",
              "      <td>40</td>\n",
              "      <td>106.67</td>\n",
              "      <td>100</td>\n",
              "    </tr>\n",
              "  </tbody>\n",
              "</table>\n",
              "<p>5 rows × 27 columns</p>\n",
              "</div>"
            ],
            "text/plain": [
              "  grain screened proof on ctd ink paper type  ink type direct steam  \\\n",
              "0            YES              YES   UNCOATED  UNCOATED           NO   \n",
              "1            YES              YES   UNCOATED  UNCOATED           NO   \n",
              "2            YES              YES   UNCOATED    COATED           NO   \n",
              "3            YES              YES   UNCOATED  UNCOATED           NO   \n",
              "4             NO              YES   UNCOATED    COATED           NO   \n",
              "\n",
              "  type on cylinder press  unit number proof cut viscosity      ...        \\\n",
              "0              YES   821          2.0        55        46      ...         \n",
              "1              YES   821          2.0        55        46      ...         \n",
              "2              YES   815          9.0        62        40      ...         \n",
              "3              YES   816          9.0        52        40      ...         \n",
              "4              YES   816          2.0        50        46      ...         \n",
              "\n",
              "  ink pct solvent pct ESA Voltage ESA Amperage  wax hardener roller durometer  \\\n",
              "0    50.5        36.4           0            0  2.5        1               34   \n",
              "1    54.9        38.5           0            0  2.5      0.7               34   \n",
              "2    53.8        39.8           0            0  2.8      0.9               40   \n",
              "3    55.6        38.8           0            0  2.5      1.3               40   \n",
              "4    57.5        42.5           5            0  2.3      0.6               35   \n",
              "\n",
              "  current density anode space ratio chrome content  \n",
              "0              40               105            100  \n",
              "1              40               105            100  \n",
              "2              40            103.87            100  \n",
              "3              40            108.06            100  \n",
              "4              40            106.67            100  \n",
              "\n",
              "[5 rows x 27 columns]"
            ]
          },
          "metadata": {
            "tags": []
          },
          "execution_count": 73
        }
      ]
    },
    {
      "metadata": {
        "id": "gCv0gB2LP7Fk",
        "colab_type": "code",
        "colab": {}
      },
      "cell_type": "code",
      "source": [
        "d2['grain screened'].replace('NO','0',inplace = True)\n",
        "d2['grain screened'].replace('YES','1',inplace = True)"
      ],
      "execution_count": 0,
      "outputs": []
    },
    {
      "metadata": {
        "id": "U0aZ0ooXQgLs",
        "colab_type": "code",
        "colab": {
          "base_uri": "https://localhost:8080/",
          "height": 35
        },
        "outputId": "e0c78d09-9134-4346-d70a-2123a142af83"
      },
      "cell_type": "code",
      "source": [
        "print(set(d2['proof on ctd ink']))\n",
        "d2['proof on ctd ink'].replace('NO','0',inplace = True)\n",
        "d2['proof on ctd ink'].replace('YES','1',inplace = True)"
      ],
      "execution_count": 76,
      "outputs": [
        {
          "output_type": "stream",
          "text": [
            "{'NO', 'YES'}\n"
          ],
          "name": "stdout"
        }
      ]
    },
    {
      "metadata": {
        "id": "MR7Vc-DvQoFw",
        "colab_type": "code",
        "colab": {
          "base_uri": "https://localhost:8080/",
          "height": 35
        },
        "outputId": "1054b95b-ebc4-4ace-da03-9e3606aaac9e"
      },
      "cell_type": "code",
      "source": [
        "print(set(d2['paper type']))\n",
        "d2['paper type'].replace('UNCOATED','0',inplace = True)\n",
        "d2['paper type'].replace('COATED','1',inplace = True)\n",
        "d2['paper type'].replace('uncoated','0',inplace = True)\n",
        "d2['paper type'].replace('coated','1',inplace = True)\n",
        "\n",
        "m = d2['paper type'].describe()\n",
        "d2['paper type'].replace('super',m['top'],inplace = True)"
      ],
      "execution_count": 79,
      "outputs": [
        {
          "output_type": "stream",
          "text": [
            "{'0', '1'}\n"
          ],
          "name": "stdout"
        }
      ]
    },
    {
      "metadata": {
        "id": "pJL7Ri47Q1en",
        "colab_type": "code",
        "colab": {
          "base_uri": "https://localhost:8080/",
          "height": 35
        },
        "outputId": "cda59372-1ec4-4986-9799-1d392e2a9d32"
      },
      "cell_type": "code",
      "source": [
        "print(set(d2['ink type']))\n",
        "d2['ink type'].replace('UNCOATED','0',inplace = True)\n",
        "d2['ink type'].replace('COATED','1',inplace = True)\n",
        "d2['ink type'].replace('uncoated','0',inplace = True)\n",
        "d2['ink type'].replace('coated','1',inplace = True)\n",
        "d2['ink type'].replace('COVER','1',inplace = True)\n",
        "d2['ink type'].replace('cover','1',inplace = True)\n"
      ],
      "execution_count": 82,
      "outputs": [
        {
          "output_type": "stream",
          "text": [
            "{'0', '1'}\n"
          ],
          "name": "stdout"
        }
      ]
    },
    {
      "metadata": {
        "id": "SCXYmydERmBJ",
        "colab_type": "code",
        "colab": {
          "base_uri": "https://localhost:8080/",
          "height": 35
        },
        "outputId": "7008c8fd-e610-4470-cbb1-5786159a8a21"
      },
      "cell_type": "code",
      "source": [
        "print(set(d2['direct steam']))\n",
        "d2['direct steam'].replace('NO','0',inplace = True)\n",
        "d2['direct steam'].replace('YES','1',inplace = True)\n",
        "d2['direct steam'].replace('no','0',inplace = True)"
      ],
      "execution_count": 88,
      "outputs": [
        {
          "output_type": "stream",
          "text": [
            "{'0', '1'}\n"
          ],
          "name": "stdout"
        }
      ]
    },
    {
      "metadata": {
        "id": "SR6KDvrLSGH4",
        "colab_type": "code",
        "colab": {
          "base_uri": "https://localhost:8080/",
          "height": 35
        },
        "outputId": "45952353-abd5-41e4-c7ab-8c35172ef35f"
      },
      "cell_type": "code",
      "source": [
        "print(set(d2['type on cylinder']))\n",
        "d2['type on cylinder'].replace('NO','0',inplace = True)\n",
        "d2['type on cylinder'].replace('YES','1',inplace = True)\n",
        "d2['type on cylinder'].replace('no','0',inplace = True)\n",
        "d2['type on cylinder'].replace('yes','0',inplace = True)"
      ],
      "execution_count": 91,
      "outputs": [
        {
          "output_type": "stream",
          "text": [
            "{'0', '1'}\n"
          ],
          "name": "stdout"
        }
      ]
    },
    {
      "metadata": {
        "id": "PDBpv82MS0jC",
        "colab_type": "code",
        "colab": {}
      },
      "cell_type": "code",
      "source": [
        "X = d2.iloc[:,:-1].values.astype(np.float32)"
      ],
      "execution_count": 0,
      "outputs": []
    },
    {
      "metadata": {
        "id": "5UAcVTpMTFid",
        "colab_type": "code",
        "colab": {
          "base_uri": "https://localhost:8080/",
          "height": 35
        },
        "outputId": "12b64668-060d-47be-f086-782c98477076"
      },
      "cell_type": "code",
      "source": [
        "type(X)"
      ],
      "execution_count": 115,
      "outputs": [
        {
          "output_type": "execute_result",
          "data": {
            "text/plain": [
              "numpy.ndarray"
            ]
          },
          "metadata": {
            "tags": []
          },
          "execution_count": 115
        }
      ]
    },
    {
      "metadata": {
        "id": "KbGHcr1ZTS8f",
        "colab_type": "code",
        "colab": {}
      },
      "cell_type": "code",
      "source": [
        "y = np.array(y).astype(np.float32)"
      ],
      "execution_count": 0,
      "outputs": []
    },
    {
      "metadata": {
        "id": "Wlf_7qDsTVDy",
        "colab_type": "code",
        "colab": {
          "base_uri": "https://localhost:8080/",
          "height": 35
        },
        "outputId": "003642c8-5608-4bb3-92dc-ec1e8c8f8aac"
      },
      "cell_type": "code",
      "source": [
        "type(y)"
      ],
      "execution_count": 117,
      "outputs": [
        {
          "output_type": "execute_result",
          "data": {
            "text/plain": [
              "numpy.ndarray"
            ]
          },
          "metadata": {
            "tags": []
          },
          "execution_count": 117
        }
      ]
    },
    {
      "metadata": {
        "id": "mq8Ums4tTfcV",
        "colab_type": "code",
        "colab": {}
      },
      "cell_type": "code",
      "source": [
        "from sklearn.model_selection import train_test_split \n",
        "\n",
        "Xtrain , Xtest , Ytrain , Ytest = train_test_split(X , y , test_size = 0.25 , random_state = 2)"
      ],
      "execution_count": 0,
      "outputs": []
    },
    {
      "metadata": {
        "id": "LHlTvDPaTpbL",
        "colab_type": "code",
        "colab": {}
      },
      "cell_type": "code",
      "source": [
        "from sklearn.svm import SVC\n",
        "clf = SVC(kernel = 'linear')"
      ],
      "execution_count": 0,
      "outputs": []
    },
    {
      "metadata": {
        "id": "EnJEhr6MUNp8",
        "colab_type": "code",
        "colab": {
          "base_uri": "https://localhost:8080/",
          "height": 35
        },
        "outputId": "48257bb1-99f3-4196-9cce-24903a60c67c"
      },
      "cell_type": "code",
      "source": [
        "clf.fit(Xtrain,Ytrain)\n",
        "clf.score(Xtest,Ytest)"
      ],
      "execution_count": 121,
      "outputs": [
        {
          "output_type": "execute_result",
          "data": {
            "text/plain": [
              "0.6592592592592592"
            ]
          },
          "metadata": {
            "tags": []
          },
          "execution_count": 121
        }
      ]
    },
    {
      "metadata": {
        "id": "uizp-Wh9XsG_",
        "colab_type": "code",
        "colab": {
          "base_uri": "https://localhost:8080/",
          "height": 92
        },
        "outputId": "6dbc0944-bf93-4fb1-86ff-47e33dd392f0"
      },
      "cell_type": "code",
      "source": [
        "ma = SVC(C=1.0, kernel='rbf')\n",
        "ma.fit(Xtrain,Ytrain)\n",
        "ma.score(Xtest,Ytest)"
      ],
      "execution_count": 125,
      "outputs": [
        {
          "output_type": "stream",
          "text": [
            "/usr/local/lib/python3.6/dist-packages/sklearn/svm/base.py:196: FutureWarning: The default value of gamma will change from 'auto' to 'scale' in version 0.22 to account better for unscaled features. Set gamma explicitly to 'auto' or 'scale' to avoid this warning.\n",
            "  \"avoid this warning.\", FutureWarning)\n"
          ],
          "name": "stderr"
        },
        {
          "output_type": "execute_result",
          "data": {
            "text/plain": [
              "0.6074074074074074"
            ]
          },
          "metadata": {
            "tags": []
          },
          "execution_count": 125
        }
      ]
    },
    {
      "metadata": {
        "id": "mQb8PjoGU-SD",
        "colab_type": "code",
        "colab": {}
      },
      "cell_type": "code",
      "source": [
        "d1 = d2.copy()"
      ],
      "execution_count": 0,
      "outputs": []
    },
    {
      "metadata": {
        "id": "tmU2HODlVYqB",
        "colab_type": "code",
        "colab": {
          "base_uri": "https://localhost:8080/",
          "height": 308
        },
        "outputId": "d23de002-5e5e-4ae6-b03f-4075f59a1788"
      },
      "cell_type": "code",
      "source": [
        "from sklearn.preprocessing import LabelEncoder\n",
        "\n",
        "object_cols = d1.columns\n",
        "\n",
        "for i in object_cols :\n",
        "    Encoder = LabelEncoder()\n",
        "    d1[i] = Encoder.fit_transform(d1[i])\n",
        "    \n",
        "d1.head()\n",
        "\n"
      ],
      "execution_count": 109,
      "outputs": [
        {
          "output_type": "execute_result",
          "data": {
            "text/html": [
              "<div>\n",
              "<style scoped>\n",
              "    .dataframe tbody tr th:only-of-type {\n",
              "        vertical-align: middle;\n",
              "    }\n",
              "\n",
              "    .dataframe tbody tr th {\n",
              "        vertical-align: top;\n",
              "    }\n",
              "\n",
              "    .dataframe thead th {\n",
              "        text-align: right;\n",
              "    }\n",
              "</style>\n",
              "<table border=\"1\" class=\"dataframe\">\n",
              "  <thead>\n",
              "    <tr style=\"text-align: right;\">\n",
              "      <th></th>\n",
              "      <th>grain screened</th>\n",
              "      <th>proof on ctd ink</th>\n",
              "      <th>paper type</th>\n",
              "      <th>ink type</th>\n",
              "      <th>direct steam</th>\n",
              "      <th>type on cylinder</th>\n",
              "      <th>press</th>\n",
              "      <th>unit number</th>\n",
              "      <th>proof cut</th>\n",
              "      <th>viscosity</th>\n",
              "      <th>...</th>\n",
              "      <th>ink pct</th>\n",
              "      <th>solvent pct</th>\n",
              "      <th>ESA Voltage</th>\n",
              "      <th>ESA Amperage</th>\n",
              "      <th>wax</th>\n",
              "      <th>hardener</th>\n",
              "      <th>roller durometer</th>\n",
              "      <th>current density</th>\n",
              "      <th>anode space ratio</th>\n",
              "      <th>chrome content</th>\n",
              "    </tr>\n",
              "  </thead>\n",
              "  <tbody>\n",
              "    <tr>\n",
              "      <th>0</th>\n",
              "      <td>1</td>\n",
              "      <td>1</td>\n",
              "      <td>0</td>\n",
              "      <td>0</td>\n",
              "      <td>0</td>\n",
              "      <td>1</td>\n",
              "      <td>4</td>\n",
              "      <td>1</td>\n",
              "      <td>17</td>\n",
              "      <td>11</td>\n",
              "      <td>...</td>\n",
              "      <td>25</td>\n",
              "      <td>42</td>\n",
              "      <td>0</td>\n",
              "      <td>0</td>\n",
              "      <td>22</td>\n",
              "      <td>13</td>\n",
              "      <td>4</td>\n",
              "      <td>4</td>\n",
              "      <td>20</td>\n",
              "      <td>0</td>\n",
              "    </tr>\n",
              "    <tr>\n",
              "      <th>1</th>\n",
              "      <td>1</td>\n",
              "      <td>1</td>\n",
              "      <td>0</td>\n",
              "      <td>0</td>\n",
              "      <td>0</td>\n",
              "      <td>1</td>\n",
              "      <td>4</td>\n",
              "      <td>1</td>\n",
              "      <td>17</td>\n",
              "      <td>11</td>\n",
              "      <td>...</td>\n",
              "      <td>41</td>\n",
              "      <td>61</td>\n",
              "      <td>0</td>\n",
              "      <td>0</td>\n",
              "      <td>22</td>\n",
              "      <td>8</td>\n",
              "      <td>4</td>\n",
              "      <td>4</td>\n",
              "      <td>20</td>\n",
              "      <td>0</td>\n",
              "    </tr>\n",
              "    <tr>\n",
              "      <th>2</th>\n",
              "      <td>1</td>\n",
              "      <td>1</td>\n",
              "      <td>0</td>\n",
              "      <td>1</td>\n",
              "      <td>0</td>\n",
              "      <td>1</td>\n",
              "      <td>2</td>\n",
              "      <td>5</td>\n",
              "      <td>21</td>\n",
              "      <td>5</td>\n",
              "      <td>...</td>\n",
              "      <td>37</td>\n",
              "      <td>73</td>\n",
              "      <td>0</td>\n",
              "      <td>0</td>\n",
              "      <td>26</td>\n",
              "      <td>12</td>\n",
              "      <td>8</td>\n",
              "      <td>4</td>\n",
              "      <td>19</td>\n",
              "      <td>0</td>\n",
              "    </tr>\n",
              "    <tr>\n",
              "      <th>3</th>\n",
              "      <td>1</td>\n",
              "      <td>1</td>\n",
              "      <td>0</td>\n",
              "      <td>0</td>\n",
              "      <td>0</td>\n",
              "      <td>1</td>\n",
              "      <td>3</td>\n",
              "      <td>5</td>\n",
              "      <td>15</td>\n",
              "      <td>5</td>\n",
              "      <td>...</td>\n",
              "      <td>44</td>\n",
              "      <td>63</td>\n",
              "      <td>0</td>\n",
              "      <td>0</td>\n",
              "      <td>22</td>\n",
              "      <td>18</td>\n",
              "      <td>8</td>\n",
              "      <td>4</td>\n",
              "      <td>40</td>\n",
              "      <td>0</td>\n",
              "    </tr>\n",
              "    <tr>\n",
              "      <th>4</th>\n",
              "      <td>0</td>\n",
              "      <td>1</td>\n",
              "      <td>0</td>\n",
              "      <td>1</td>\n",
              "      <td>0</td>\n",
              "      <td>1</td>\n",
              "      <td>3</td>\n",
              "      <td>1</td>\n",
              "      <td>14</td>\n",
              "      <td>11</td>\n",
              "      <td>...</td>\n",
              "      <td>51</td>\n",
              "      <td>95</td>\n",
              "      <td>13</td>\n",
              "      <td>0</td>\n",
              "      <td>20</td>\n",
              "      <td>6</td>\n",
              "      <td>5</td>\n",
              "      <td>4</td>\n",
              "      <td>33</td>\n",
              "      <td>0</td>\n",
              "    </tr>\n",
              "  </tbody>\n",
              "</table>\n",
              "<p>5 rows × 27 columns</p>\n",
              "</div>"
            ],
            "text/plain": [
              "   grain screened  proof on ctd ink  paper type  ink type  direct steam  \\\n",
              "0               1                 1           0         0             0   \n",
              "1               1                 1           0         0             0   \n",
              "2               1                 1           0         1             0   \n",
              "3               1                 1           0         0             0   \n",
              "4               0                 1           0         1             0   \n",
              "\n",
              "   type on cylinder  press  unit number  proof cut  viscosity       ...        \\\n",
              "0                 1      4            1         17         11       ...         \n",
              "1                 1      4            1         17         11       ...         \n",
              "2                 1      2            5         21          5       ...         \n",
              "3                 1      3            5         15          5       ...         \n",
              "4                 1      3            1         14         11       ...         \n",
              "\n",
              "   ink pct  solvent pct  ESA Voltage  ESA Amperage  wax  hardener  \\\n",
              "0       25           42            0             0   22        13   \n",
              "1       41           61            0             0   22         8   \n",
              "2       37           73            0             0   26        12   \n",
              "3       44           63            0             0   22        18   \n",
              "4       51           95           13             0   20         6   \n",
              "\n",
              "   roller durometer  current density  anode space ratio  chrome content  \n",
              "0                 4                4                 20               0  \n",
              "1                 4                4                 20               0  \n",
              "2                 8                4                 19               0  \n",
              "3                 8                4                 40               0  \n",
              "4                 5                4                 33               0  \n",
              "\n",
              "[5 rows x 27 columns]"
            ]
          },
          "metadata": {
            "tags": []
          },
          "execution_count": 109
        }
      ]
    },
    {
      "metadata": {
        "id": "pLJic3m_VtUv",
        "colab_type": "code",
        "colab": {}
      },
      "cell_type": "code",
      "source": [
        "X = d1.iloc[:,:-1].values.astype(np.float32)"
      ],
      "execution_count": 0,
      "outputs": []
    },
    {
      "metadata": {
        "id": "BhAHTkrhWmdv",
        "colab_type": "code",
        "colab": {}
      },
      "cell_type": "code",
      "source": [
        "from sklearn.model_selection import train_test_split \n",
        "\n",
        "Xtrain , Xtest , Ytrain , Ytest = train_test_split(X , y , test_size = 0.25 , random_state = 2)"
      ],
      "execution_count": 0,
      "outputs": []
    },
    {
      "metadata": {
        "id": "VsL0TqzsWsOJ",
        "colab_type": "code",
        "colab": {
          "base_uri": "https://localhost:8080/",
          "height": 35
        },
        "outputId": "8e0fd473-0b39-44e3-a368-e7b02697b202"
      },
      "cell_type": "code",
      "source": [
        "from sklearn.svm import SVC\n",
        "clf = SVC(kernel = 'linear')\n",
        "clf.fit(Xtrain,Ytrain)\n",
        "clf.score(Xtest,Ytest)"
      ],
      "execution_count": 128,
      "outputs": [
        {
          "output_type": "execute_result",
          "data": {
            "text/plain": [
              "0.6814814814814815"
            ]
          },
          "metadata": {
            "tags": []
          },
          "execution_count": 128
        }
      ]
    },
    {
      "metadata": {
        "id": "cCvlV65LW1gQ",
        "colab_type": "code",
        "colab": {
          "base_uri": "https://localhost:8080/",
          "height": 92
        },
        "outputId": "94a59fbf-4bd4-480c-f1e8-68efcc3bb3fd"
      },
      "cell_type": "code",
      "source": [
        "ma = SVC(C=1.0, kernel='rbf')\n",
        "ma.fit(Xtrain,Ytrain)\n",
        "ma.score(Xtest,Ytest)"
      ],
      "execution_count": 129,
      "outputs": [
        {
          "output_type": "stream",
          "text": [
            "/usr/local/lib/python3.6/dist-packages/sklearn/svm/base.py:196: FutureWarning: The default value of gamma will change from 'auto' to 'scale' in version 0.22 to account better for unscaled features. Set gamma explicitly to 'auto' or 'scale' to avoid this warning.\n",
            "  \"avoid this warning.\", FutureWarning)\n"
          ],
          "name": "stderr"
        },
        {
          "output_type": "execute_result",
          "data": {
            "text/plain": [
              "0.6074074074074074"
            ]
          },
          "metadata": {
            "tags": []
          },
          "execution_count": 129
        }
      ]
    },
    {
      "metadata": {
        "id": "7b2x_lt9Yz5K",
        "colab_type": "code",
        "colab": {}
      },
      "cell_type": "code",
      "source": [
        ""
      ],
      "execution_count": 0,
      "outputs": []
    }
  ]
}